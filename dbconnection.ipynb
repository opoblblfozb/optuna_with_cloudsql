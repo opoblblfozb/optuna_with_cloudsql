{
 "cells": [
  {
   "cell_type": "code",
   "execution_count": 5,
   "metadata": {},
   "outputs": [],
   "source": [
    "import optuna\n",
    "import sqlalchemy\n",
    "\n",
    "username  = \"hogehoge\"\n",
    "password = \"hugahuga\"\n",
    "dbname = \"\"\n",
    "uri = 'postgresql+psycopg2://{}:{}@localhost:5432/{}'.format(username, password, dbname)"
   ]
  },
  {
   "cell_type": "code",
   "execution_count": 6,
   "metadata": {},
   "outputs": [],
   "source": [
    "from sqlalchemy import create_engine\n",
    "engine = create_engine(uri)"
   ]
  },
  {
   "cell_type": "code",
   "execution_count": null,
   "metadata": {},
   "outputs": [],
   "source": [
    "from sqlalchemy.ext.declarative import declarative_base\n",
    "Base = declarative_base()\n",
    "from sqlalchemy.schema import Column\n",
    "from sqlalchemy.types import Integer, String\n",
    "from sqlalchemy.orm import sessionmaker\n",
    "\n",
    "class User(Base):\n",
    "    __tablename__ = \"user\"  # テーブル名を指定\n",
    "    user_id = Column(Integer, primary_key=True)\n",
    "    first_name = Column(String(255))\n",
    "    last_name = Column(String(255))\n",
    "    age = Column(Integer)\n",
    "\n",
    "    def full_name(self):  # フルネームを返すメソッド\n",
    "        return \"{self.first_name} {self.last_name}\"\n",
    "Base.metadata.create_all(engine)\n",
    "SessionClass = sessionmaker(engine)  # セッションを作るクラスを作成\n",
    "session = SessionClass()\n",
    "user_a = User(first_name=\"first_a\", last_name=\"last_a\", age=79)\n",
    "user_b = User(first_name=\"first_a\", last_name=\"last_a\", age=79)\n",
    "session.add(user_a)\n",
    "session.add(user_b)\n",
    "session.commit()\n",
    "users = session.query(User).all()  # userテーブルの全レコードをクラスが入った配列で返す\n",
    "user = session.query(User).first()  # userテーブルの最初のレコードをクラスで返す\n",
    "for u in users:\n",
    "    print(u.age)"
   ]
  },
  {
   "cell_type": "code",
   "execution_count": 7,
   "metadata": {},
   "outputs": [
    {
     "name": "stderr",
     "output_type": "stream",
     "text": [
      "\u001b[32m[I 2021-11-19 16:57:38,554]\u001b[0m A new study created in RDB with name: testes\u001b[0m\n",
      "\u001b[32m[I 2021-11-19 16:57:48,149]\u001b[0m Trial 0 finished with value: 46.66515400484355 and parameters: {'x': 8.831189794233765}. Best is trial 0 with value: 46.66515400484355.\u001b[0m\n",
      "\u001b[32m[I 2021-11-19 16:57:56,085]\u001b[0m Trial 1 finished with value: 0.596846951034281 and parameters: {'x': 2.772558703940536}. Best is trial 1 with value: 0.596846951034281.\u001b[0m\n"
     ]
    }
   ],
   "source": [
    "import optuna\n",
    "\n",
    "def objective(trial):\n",
    "    x = trial.suggest_uniform('x', -10, 10)\n",
    "    score = (x - 2) ** 2\n",
    "    #print('x: %1.3f, score: %1.3f' % (x, score))\n",
    "    return score\n",
    "\n",
    "storage = optuna.storages.RDBStorage(\n",
    "    url=uri,\n",
    ")\n",
    "study = optuna.create_study(study_name=\"testes\",storage=storage, load_if_exists=True)\n",
    "study.optimize(objective, n_trials=5)"
   ]
  }
 ],
 "metadata": {
  "interpreter": {
   "hash": "1ed687a1f29c7ddc1e0808e3e41e04bd4038781b1c750f34f538a06adbb55442"
  },
  "kernelspec": {
   "display_name": "Python 3.9.7 64-bit ('.venv': poetry)",
   "language": "python",
   "name": "python3"
  },
  "language_info": {
   "codemirror_mode": {
    "name": "ipython",
    "version": 3
   },
   "file_extension": ".py",
   "mimetype": "text/x-python",
   "name": "python",
   "nbconvert_exporter": "python",
   "pygments_lexer": "ipython3",
   "version": "3.9.7"
  },
  "orig_nbformat": 4
 },
 "nbformat": 4,
 "nbformat_minor": 2
}
